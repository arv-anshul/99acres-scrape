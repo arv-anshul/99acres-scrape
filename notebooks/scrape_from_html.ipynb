{
 "cells": [
  {
   "cell_type": "code",
   "execution_count": 1,
   "metadata": {},
   "outputs": [],
   "source": [
    "from typing import Callable\n",
    "import requests\n",
    "from bs4 import BeautifulSoup, Tag\n",
    "import pandas as pd\n",
    "import json"
   ]
  },
  {
   "cell_type": "code",
   "execution_count": 2,
   "metadata": {},
   "outputs": [],
   "source": [
    "soup = BeautifulSoup(open('1.html'), 'html.parser')"
   ]
  },
  {
   "attachments": {},
   "cell_type": "markdown",
   "metadata": {},
   "source": [
    "### There are two data present on the webpage:\n",
    "\n",
    "1. SRP Data\n",
    "2. Project Data"
   ]
  },
  {
   "cell_type": "code",
   "execution_count": 3,
   "metadata": {},
   "outputs": [],
   "source": [
    "srp_cards: list[Tag] = soup.find_all(attrs={'class': 'srpTuple__descCont'})\n",
    "project_cards: list[Tag] = soup.find_all(attrs={'class': 'projectTuple__descCont'})"
   ]
  },
  {
   "cell_type": "code",
   "execution_count": 4,
   "metadata": {},
   "outputs": [
    {
     "data": {
      "text/plain": [
       "(51, 76)"
      ]
     },
     "execution_count": 4,
     "metadata": {},
     "output_type": "execute_result"
    }
   ],
   "source": [
    "len(srp_cards), len(project_cards)"
   ]
  },
  {
   "cell_type": "code",
   "execution_count": 5,
   "metadata": {},
   "outputs": [],
   "source": [
    "srp = srp_cards[0]\n",
    "project = project_cards[0]"
   ]
  },
  {
   "attachments": {},
   "cell_type": "markdown",
   "metadata": {},
   "source": [
    "## Scrape SRP Cards"
   ]
  },
  {
   "cell_type": "code",
   "execution_count": 6,
   "metadata": {},
   "outputs": [],
   "source": [
    "def make_srp_item_list(\n",
    "        str_func: Callable[[str], str] | None = None,\n",
    "        use_find_all: bool = False,\n",
    "        **kwargs,\n",
    ") -> list[list[Tag] | str | None]:\n",
    "    result = []\n",
    "\n",
    "    for i in srp_cards:\n",
    "        if use_find_all:\n",
    "            f = i.find_all(**kwargs)\n",
    "            result.append(f)\n",
    "        else:\n",
    "            f = i.find(**kwargs)\n",
    "            if f is None:\n",
    "                result.append(None)\n",
    "                continue\n",
    "            if str_func:\n",
    "                result.append(str_func(f.text))\n",
    "            else:\n",
    "                result.append(f.text)\n",
    "\n",
    "    return result"
   ]
  },
  {
   "cell_type": "code",
   "execution_count": 7,
   "metadata": {},
   "outputs": [],
   "source": [
    "titles = make_srp_item_list(name='h2')"
   ]
  },
  {
   "cell_type": "code",
   "execution_count": 8,
   "metadata": {},
   "outputs": [],
   "source": [
    "property_name = make_srp_item_list(attrs={'class': 'srpTuple__propertyPremiumHeading'})"
   ]
  },
  {
   "cell_type": "code",
   "execution_count": 9,
   "metadata": {},
   "outputs": [],
   "source": [
    "nearby_places = make_srp_item_list(attrs={'class': 'SliderTagsAndChips__sliderChips'})"
   ]
  },
  {
   "cell_type": "code",
   "execution_count": 10,
   "metadata": {},
   "outputs": [],
   "source": [
    "nearby_places_count = make_srp_item_list(attrs={'class': 'SliderTagsAndChips__nearByInfo'})"
   ]
  },
  {
   "cell_type": "code",
   "execution_count": 11,
   "metadata": {},
   "outputs": [],
   "source": [
    "price = make_srp_item_list(lambda x: x.split('\\n', 1)[0], attrs={'id': 'srp_tuple_price'})"
   ]
  },
  {
   "cell_type": "code",
   "execution_count": 12,
   "metadata": {},
   "outputs": [],
   "source": [
    "price_per_unit = make_srp_item_list(attrs={'id': 'srp_tuple_price_per_unit_area'})"
   ]
  },
  {
   "cell_type": "code",
   "execution_count": 13,
   "metadata": {},
   "outputs": [],
   "source": [
    "area = make_srp_item_list(lambda x: x.split('\\n', 1)[0], attrs={'id': 'srp_tuple_primary_area'})"
   ]
  },
  {
   "cell_type": "code",
   "execution_count": 14,
   "metadata": {},
   "outputs": [],
   "source": [
    "area_per_unit = make_srp_item_list(attrs={'id': 'srp_tuple_secondary_area'})"
   ]
  },
  {
   "cell_type": "code",
   "execution_count": 15,
   "metadata": {},
   "outputs": [],
   "source": [
    "bhk = make_srp_item_list(lambda x: x.split(' BHK')[0], attrs={'id': 'srp_tuple_bedroom'})"
   ]
  },
  {
   "cell_type": "code",
   "execution_count": 16,
   "metadata": {},
   "outputs": [],
   "source": [
    "bhk_baths = make_srp_item_list(lambda x: x.split(' Baths')[0], attrs={'id': 'srp_tuple_bathroom'})"
   ]
  },
  {
   "cell_type": "code",
   "execution_count": 17,
   "metadata": {},
   "outputs": [],
   "source": [
    "desc = make_srp_item_list(lambda x: x.strip(), attrs={'id': 'srp_tuple_description'})"
   ]
  },
  {
   "cell_type": "code",
   "execution_count": 18,
   "metadata": {},
   "outputs": [],
   "source": [
    "usp_band = make_srp_item_list(lambda x: x.strip(), attrs={'data-label': 'USP_BAND'})"
   ]
  },
  {
   "cell_type": "code",
   "execution_count": 19,
   "metadata": {},
   "outputs": [],
   "source": [
    "property_badge = make_srp_item_list(lambda x: x.strip(), attrs={'class': 'srpTuple__badgeWrap'})"
   ]
  },
  {
   "cell_type": "code",
   "execution_count": 20,
   "metadata": {},
   "outputs": [],
   "source": [
    "srp_data = {\n",
    "    'title': titles,\n",
    "    'property_name': property_name,\n",
    "    'property_badge': property_badge,\n",
    "    'nearby_places': nearby_places,\n",
    "    'nearby_places_count': nearby_places_count,\n",
    "    'price': price,\n",
    "    'price_per_unit': price_per_unit,\n",
    "    'area': area,\n",
    "    'area_per_unit': area_per_unit,\n",
    "    'usp_band': usp_band,\n",
    "    'desc': desc,\n",
    "    'bhk': bhk,\n",
    "    'bhk_baths': bhk_baths,\n",
    "}"
   ]
  },
  {
   "cell_type": "code",
   "execution_count": 21,
   "metadata": {},
   "outputs": [
    {
     "data": {
      "text/plain": [
       "[51, 51, 51, 51, 51, 51, 51, 51, 51, 51, 51, 51, 51]"
      ]
     },
     "execution_count": 21,
     "metadata": {},
     "output_type": "execute_result"
    }
   ],
   "source": [
    "[len(val) for val in srp_data.values()]"
   ]
  },
  {
   "cell_type": "code",
   "execution_count": 22,
   "metadata": {},
   "outputs": [
    {
     "name": "stdout",
     "output_type": "stream",
     "text": [
      "(51, 13)\n"
     ]
    },
    {
     "data": {
      "text/html": [
       "<div>\n",
       "<style scoped>\n",
       "    .dataframe tbody tr th:only-of-type {\n",
       "        vertical-align: middle;\n",
       "    }\n",
       "\n",
       "    .dataframe tbody tr th {\n",
       "        vertical-align: top;\n",
       "    }\n",
       "\n",
       "    .dataframe thead th {\n",
       "        text-align: right;\n",
       "    }\n",
       "</style>\n",
       "<table border=\"1\" class=\"dataframe\">\n",
       "  <thead>\n",
       "    <tr style=\"text-align: right;\">\n",
       "      <th></th>\n",
       "      <th>title</th>\n",
       "      <th>property_name</th>\n",
       "      <th>property_badge</th>\n",
       "      <th>nearby_places</th>\n",
       "      <th>nearby_places_count</th>\n",
       "      <th>price</th>\n",
       "      <th>price_per_unit</th>\n",
       "      <th>area</th>\n",
       "      <th>area_per_unit</th>\n",
       "      <th>usp_band</th>\n",
       "      <th>desc</th>\n",
       "      <th>bhk</th>\n",
       "      <th>bhk_baths</th>\n",
       "    </tr>\n",
       "  </thead>\n",
       "  <tbody>\n",
       "    <tr>\n",
       "      <th>0</th>\n",
       "      <td>4 BHK\\n                                       ...</td>\n",
       "      <td>\\nDLF Garden City Floors</td>\n",
       "      <td>FEATURED\\n\\n\\n\\n                              ...</td>\n",
       "      <td>\\n\\n1\\n                                       ...</td>\n",
       "      <td>\\n\\n                                          ...</td>\n",
       "      <td>₹ 1.9 Cr</td>\n",
       "      <td>₹ 7,037/sq.ft.\\n                              ...</td>\n",
       "      <td>2,700 sq.ft.</td>\n",
       "      <td>(251 sq.m.) Carpet\\n                          ...</td>\n",
       "      <td>East\\n                                        ...</td>\n",
       "      <td>4bhk\\n                                        ...</td>\n",
       "      <td>4</td>\n",
       "      <td>4</td>\n",
       "    </tr>\n",
       "    <tr>\n",
       "      <th>1</th>\n",
       "      <td>2 BHK\\n                                       ...</td>\n",
       "      <td>\\n                                            ...</td>\n",
       "      <td>FEATURED\\n\\n\\n\\n                              ...</td>\n",
       "      <td>\\n\\n1\\n                                       ...</td>\n",
       "      <td>\\n\\n                                          ...</td>\n",
       "      <td>₹ 61.91 L₹ 6,253/sq.ft.</td>\n",
       "      <td>₹ 6,253/sq.ft.\\n                              ...</td>\n",
       "      <td>990 sq.ft.</td>\n",
       "      <td>(92 sq.m.) Carpet Area\\n                      ...</td>\n",
       "      <td>Gated\\n                                       ...</td>\n",
       "      <td>Move\\n                                        ...</td>\n",
       "      <td>2</td>\n",
       "      <td>2</td>\n",
       "    </tr>\n",
       "    <tr>\n",
       "      <th>2</th>\n",
       "      <td>4 BHK\\n                                       ...</td>\n",
       "      <td>\\nDLF Garden City Floors</td>\n",
       "      <td>UNDER CONSTRUCTION\\n\\n\\n\\n                    ...</td>\n",
       "      <td>None</td>\n",
       "      <td>None</td>\n",
       "      <td>₹ 2.7 Cr</td>\n",
       "      <td>₹ 13,989/sq.ft.\\n                             ...</td>\n",
       "      <td>2,885 sq.ft.</td>\n",
       "      <td>(268 sq.m.) Super\\n                           ...</td>\n",
       "      <td>None</td>\n",
       "      <td>Here\\n                                        ...</td>\n",
       "      <td>4</td>\n",
       "      <td>4</td>\n",
       "    </tr>\n",
       "    <tr>\n",
       "      <th>3</th>\n",
       "      <td>3 BHK Flat\\n                                  ...</td>\n",
       "      <td>\\nSS Almeria</td>\n",
       "      <td>READY TO MOVE\\n\\n\\n\\n                         ...</td>\n",
       "      <td>None</td>\n",
       "      <td>None</td>\n",
       "      <td>₹ 1.48 Cr</td>\n",
       "      <td>₹ 7,400/sq.ft.\\n                              ...</td>\n",
       "      <td>2,000 sq.ft.</td>\n",
       "      <td>(186 sq.m.) Super\\n                           ...</td>\n",
       "      <td>Recently\\n                                    ...</td>\n",
       "      <td>This\\n                                        ...</td>\n",
       "      <td>3</td>\n",
       "      <td>3</td>\n",
       "    </tr>\n",
       "    <tr>\n",
       "      <th>4</th>\n",
       "      <td>Residential\\n                                 ...</td>\n",
       "      <td>\\n                                            ...</td>\n",
       "      <td>IN GATED COMMUNITY\\n\\n\\n\\n                    ...</td>\n",
       "      <td>None</td>\n",
       "      <td>None</td>\n",
       "      <td>₹ 4.95 Cr</td>\n",
       "      <td>₹ 18,333/sq.ft.\\n                             ...</td>\n",
       "      <td>2,700 sq.ft.</td>\n",
       "      <td>(251 sq.m.) Plot Area\\n                       ...</td>\n",
       "      <td>None</td>\n",
       "      <td>Residential\\n                                 ...</td>\n",
       "      <td></td>\n",
       "      <td>None</td>\n",
       "    </tr>\n",
       "  </tbody>\n",
       "</table>\n",
       "</div>"
      ],
      "text/plain": [
       "                                               title   \n",
       "0  4 BHK\\n                                       ...  \\\n",
       "1  2 BHK\\n                                       ...   \n",
       "2  4 BHK\\n                                       ...   \n",
       "3  3 BHK Flat\\n                                  ...   \n",
       "4  Residential\\n                                 ...   \n",
       "\n",
       "                                       property_name   \n",
       "0                           \\nDLF Garden City Floors  \\\n",
       "1  \\n                                            ...   \n",
       "2                           \\nDLF Garden City Floors   \n",
       "3                                       \\nSS Almeria   \n",
       "4  \\n                                            ...   \n",
       "\n",
       "                                      property_badge   \n",
       "0  FEATURED\\n\\n\\n\\n                              ...  \\\n",
       "1  FEATURED\\n\\n\\n\\n                              ...   \n",
       "2  UNDER CONSTRUCTION\\n\\n\\n\\n                    ...   \n",
       "3  READY TO MOVE\\n\\n\\n\\n                         ...   \n",
       "4  IN GATED COMMUNITY\\n\\n\\n\\n                    ...   \n",
       "\n",
       "                                       nearby_places   \n",
       "0  \\n\\n1\\n                                       ...  \\\n",
       "1  \\n\\n1\\n                                       ...   \n",
       "2                                               None   \n",
       "3                                               None   \n",
       "4                                               None   \n",
       "\n",
       "                                 nearby_places_count                    price   \n",
       "0  \\n\\n                                          ...                 ₹ 1.9 Cr  \\\n",
       "1  \\n\\n                                          ...  ₹ 61.91 L₹ 6,253/sq.ft.   \n",
       "2                                               None                 ₹ 2.7 Cr   \n",
       "3                                               None                ₹ 1.48 Cr   \n",
       "4                                               None                ₹ 4.95 Cr   \n",
       "\n",
       "                                      price_per_unit          area   \n",
       "0  ₹ 7,037/sq.ft.\\n                              ...  2,700 sq.ft.  \\\n",
       "1  ₹ 6,253/sq.ft.\\n                              ...    990 sq.ft.   \n",
       "2  ₹ 13,989/sq.ft.\\n                             ...  2,885 sq.ft.   \n",
       "3  ₹ 7,400/sq.ft.\\n                              ...  2,000 sq.ft.   \n",
       "4  ₹ 18,333/sq.ft.\\n                             ...  2,700 sq.ft.   \n",
       "\n",
       "                                       area_per_unit   \n",
       "0  (251 sq.m.) Carpet\\n                          ...  \\\n",
       "1  (92 sq.m.) Carpet Area\\n                      ...   \n",
       "2  (268 sq.m.) Super\\n                           ...   \n",
       "3  (186 sq.m.) Super\\n                           ...   \n",
       "4  (251 sq.m.) Plot Area\\n                       ...   \n",
       "\n",
       "                                            usp_band   \n",
       "0  East\\n                                        ...  \\\n",
       "1  Gated\\n                                       ...   \n",
       "2                                               None   \n",
       "3  Recently\\n                                    ...   \n",
       "4                                               None   \n",
       "\n",
       "                                                desc bhk bhk_baths  \n",
       "0  4bhk\\n                                        ...   4         4  \n",
       "1  Move\\n                                        ...   2         2  \n",
       "2  Here\\n                                        ...   4         4  \n",
       "3  This\\n                                        ...   3         3  \n",
       "4  Residential\\n                                 ...          None  "
      ]
     },
     "execution_count": 22,
     "metadata": {},
     "output_type": "execute_result"
    }
   ],
   "source": [
    "srp_df = pd.DataFrame(srp_data)\n",
    "print(srp_df.shape)\n",
    "srp_df.head()"
   ]
  },
  {
   "cell_type": "code",
   "execution_count": 23,
   "metadata": {},
   "outputs": [
    {
     "name": "stdout",
     "output_type": "stream",
     "text": [
      "<class 'pandas.core.frame.DataFrame'>\n",
      "RangeIndex: 51 entries, 0 to 50\n",
      "Data columns (total 13 columns):\n",
      " #   Column               Non-Null Count  Dtype \n",
      "---  ------               --------------  ----- \n",
      " 0   title                51 non-null     object\n",
      " 1   property_name        51 non-null     object\n",
      " 2   property_badge       51 non-null     object\n",
      " 3   nearby_places        2 non-null      object\n",
      " 4   nearby_places_count  2 non-null      object\n",
      " 5   price                51 non-null     object\n",
      " 6   price_per_unit       51 non-null     object\n",
      " 7   area                 51 non-null     object\n",
      " 8   area_per_unit        51 non-null     object\n",
      " 9   usp_band             36 non-null     object\n",
      " 10  desc                 51 non-null     object\n",
      " 11  bhk                  51 non-null     object\n",
      " 12  bhk_baths            30 non-null     object\n",
      "dtypes: object(13)\n",
      "memory usage: 5.3+ KB\n"
     ]
    }
   ],
   "source": [
    "srp_df.info()"
   ]
  },
  {
   "cell_type": "code",
   "execution_count": 25,
   "metadata": {},
   "outputs": [
    {
     "data": {
      "text/plain": [
       "'4 BHK\\n                                                                        Independent Builder Floor in Sector 92 Gurgaon\\n                                                                    '"
      ]
     },
     "execution_count": 25,
     "metadata": {},
     "output_type": "execute_result"
    }
   ],
   "source": [
    "srp_df['title'][0]"
   ]
  },
  {
   "attachments": {},
   "cell_type": "markdown",
   "metadata": {},
   "source": [
    "## Scrape Project Cards"
   ]
  },
  {
   "cell_type": "code",
   "execution_count": null,
   "metadata": {},
   "outputs": [],
   "source": []
  }
 ],
 "metadata": {
  "kernelspec": {
   "display_name": "Python 3",
   "language": "python",
   "name": "python3"
  },
  "language_info": {
   "codemirror_mode": {
    "name": "ipython",
    "version": 3
   },
   "file_extension": ".py",
   "mimetype": "text/x-python",
   "name": "python",
   "nbconvert_exporter": "python",
   "pygments_lexer": "ipython3",
   "version": "3.11.0"
  },
  "orig_nbformat": 4
 },
 "nbformat": 4,
 "nbformat_minor": 2
}
