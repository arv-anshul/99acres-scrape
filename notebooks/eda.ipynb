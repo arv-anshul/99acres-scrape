{
 "cells": [
  {
   "cell_type": "code",
   "execution_count": 1,
   "metadata": {},
   "outputs": [],
   "source": [
    "from ast import literal_eval\n",
    "\n",
    "import pandas as pd\n",
    "import matplotlib.pyplot as plt"
   ]
  },
  {
   "cell_type": "code",
   "execution_count": 2,
   "metadata": {},
   "outputs": [],
   "source": [
    "plt.style.use(\"dark_background\")\n",
    "plt.rcParams[\"font.family\"] = \"jetbrains mono\"\n",
    "plt.rcParams[\"figure.dpi\"] = 150"
   ]
  },
  {
   "cell_type": "code",
   "execution_count": 3,
   "metadata": {},
   "outputs": [
    {
     "name": "stdout",
     "output_type": "stream",
     "text": [
      "(3385, 55)\n"
     ]
    },
    {
     "data": {
      "text/html": [
       "<div>\n",
       "<style scoped>\n",
       "    .dataframe tbody tr th:only-of-type {\n",
       "        vertical-align: middle;\n",
       "    }\n",
       "\n",
       "    .dataframe tbody tr th {\n",
       "        vertical-align: top;\n",
       "    }\n",
       "\n",
       "    .dataframe thead th {\n",
       "        text-align: right;\n",
       "    }\n",
       "</style>\n",
       "<table border=\"1\" class=\"dataframe\">\n",
       "  <thead>\n",
       "    <tr style=\"text-align: right;\">\n",
       "      <th></th>\n",
       "      <th>SPID</th>\n",
       "      <th>PROP_ID</th>\n",
       "      <th>PREFERENCE</th>\n",
       "      <th>DESCRIPTION</th>\n",
       "      <th>PROPERTY_TYPE</th>\n",
       "      <th>CITY</th>\n",
       "      <th>TRANSACT_TYPE</th>\n",
       "      <th>OWNTYPE</th>\n",
       "      <th>BEDROOM_NUM</th>\n",
       "      <th>PRICE_PER_UNIT_AREA</th>\n",
       "      <th>...</th>\n",
       "      <th>REGISTERED_DAYS</th>\n",
       "      <th>PRIMARY_TAGS</th>\n",
       "      <th>SECONDARY_TAGS</th>\n",
       "      <th>TOTAL_LANDMARK_COUNT</th>\n",
       "      <th>FORMATTED_LANDMARK_DETAILS</th>\n",
       "      <th>SOCIETY_NAME</th>\n",
       "      <th>BUILDING_NAME</th>\n",
       "      <th>location</th>\n",
       "      <th>BALCONY_NUM</th>\n",
       "      <th>FLOOR_NUM</th>\n",
       "    </tr>\n",
       "  </thead>\n",
       "  <tbody>\n",
       "    <tr>\n",
       "      <th>0</th>\n",
       "      <td>69961448</td>\n",
       "      <td>Z69961448</td>\n",
       "      <td>S</td>\n",
       "      <td>Its park pool facing flat with all interior do...</td>\n",
       "      <td>Residential Apartment</td>\n",
       "      <td>Gurgaon</td>\n",
       "      <td>1.0</td>\n",
       "      <td>1</td>\n",
       "      <td>4.0</td>\n",
       "      <td>7435.0</td>\n",
       "      <td>...</td>\n",
       "      <td>2 weeks ago</td>\n",
       "      <td>['FEATURED']</td>\n",
       "      <td>['READY TO MOVE', 'RESALE', 'RERA']</td>\n",
       "      <td>10.0</td>\n",
       "      <td>[{'text': '1 Shopping'}, {'text': '2 Connectiv...</td>\n",
       "      <td>Emaar MGF Palm Hills</td>\n",
       "      <td>Emaar MGF Palm Hills</td>\n",
       "      <td>{'CITY': '8', 'CITY_NAME': 'Gurgaon', 'BUILDIN...</td>\n",
       "      <td>4.0</td>\n",
       "      <td>4</td>\n",
       "    </tr>\n",
       "    <tr>\n",
       "      <th>1</th>\n",
       "      <td>62141426</td>\n",
       "      <td>Y62141426</td>\n",
       "      <td>S</td>\n",
       "      <td>Brand new ultra luxury builder floor of 360 sq...</td>\n",
       "      <td>Independent/Builder Floor</td>\n",
       "      <td>Gurgaon</td>\n",
       "      <td>1.0</td>\n",
       "      <td>1</td>\n",
       "      <td>4.0</td>\n",
       "      <td>10493.0</td>\n",
       "      <td>...</td>\n",
       "      <td>6 days ago</td>\n",
       "      <td>['FEATURED']</td>\n",
       "      <td>['UNDER CONSTRUCTION', 'RESALE']</td>\n",
       "      <td>47.0</td>\n",
       "      <td>[{'text': '3 Metro Stations'}, {'text': '2 Rel...</td>\n",
       "      <td>Brand New Builder Floor</td>\n",
       "      <td>Brand New Builder Floor</td>\n",
       "      <td>{'CITY': '8', 'CITY_NAME': 'Gurgaon', 'BUILDIN...</td>\n",
       "      <td>2.0</td>\n",
       "      <td>2</td>\n",
       "    </tr>\n",
       "    <tr>\n",
       "      <th>2</th>\n",
       "      <td>69248094</td>\n",
       "      <td>P69248094</td>\n",
       "      <td>S</td>\n",
       "      <td>Brand new 502 yards floor available in dlf pha...</td>\n",
       "      <td>Independent/Builder Floor</td>\n",
       "      <td>Gurgaon</td>\n",
       "      <td>1.0</td>\n",
       "      <td>1</td>\n",
       "      <td>4.0</td>\n",
       "      <td>12061.0</td>\n",
       "      <td>...</td>\n",
       "      <td>1 month ago</td>\n",
       "      <td>[]</td>\n",
       "      <td>['READY TO MOVE', 'RESALE']</td>\n",
       "      <td>47.0</td>\n",
       "      <td>[{'text': '6 Metro Stations'}, {'text': '1 Rel...</td>\n",
       "      <td>NaN</td>\n",
       "      <td>NaN</td>\n",
       "      <td>{'CITY': '8', 'CITY_NAME': 'Gurgaon', 'BUILDIN...</td>\n",
       "      <td>3.0</td>\n",
       "      <td>3</td>\n",
       "    </tr>\n",
       "    <tr>\n",
       "      <th>3</th>\n",
       "      <td>69293622</td>\n",
       "      <td>M69293622</td>\n",
       "      <td>S</td>\n",
       "      <td>Park facing 4bhk sq with ultra luxury modern a...</td>\n",
       "      <td>Independent/Builder Floor</td>\n",
       "      <td>Gurgaon</td>\n",
       "      <td>1.0</td>\n",
       "      <td>1</td>\n",
       "      <td>4.0</td>\n",
       "      <td>13076.0</td>\n",
       "      <td>...</td>\n",
       "      <td>1 month ago</td>\n",
       "      <td>[]</td>\n",
       "      <td>['READY TO MOVE', 'RESALE']</td>\n",
       "      <td>44.0</td>\n",
       "      <td>[{'text': '6 Metro Stations'}, {'text': '1 Rel...</td>\n",
       "      <td>Park Facing</td>\n",
       "      <td>Park Facing</td>\n",
       "      <td>{'CITY': '8', 'CITY_NAME': 'Gurgaon', 'BUILDIN...</td>\n",
       "      <td>4.0</td>\n",
       "      <td>2</td>\n",
       "    </tr>\n",
       "    <tr>\n",
       "      <th>4</th>\n",
       "      <td>69248544</td>\n",
       "      <td>P69248544</td>\n",
       "      <td>S</td>\n",
       "      <td>Brand new 402 yards floor available in dlf pha...</td>\n",
       "      <td>Independent/Builder Floor</td>\n",
       "      <td>Gurgaon</td>\n",
       "      <td>1.0</td>\n",
       "      <td>1</td>\n",
       "      <td>4.0</td>\n",
       "      <td>13520.0</td>\n",
       "      <td>...</td>\n",
       "      <td>1 month ago</td>\n",
       "      <td>[]</td>\n",
       "      <td>['READY TO MOVE', 'RESALE']</td>\n",
       "      <td>47.0</td>\n",
       "      <td>[{'text': '6 Metro Stations'}, {'text': '2 Rel...</td>\n",
       "      <td>NaN</td>\n",
       "      <td>NaN</td>\n",
       "      <td>{'CITY': '8', 'CITY_NAME': 'Gurgaon', 'BUILDIN...</td>\n",
       "      <td>3.0</td>\n",
       "      <td>2</td>\n",
       "    </tr>\n",
       "  </tbody>\n",
       "</table>\n",
       "<p>5 rows × 55 columns</p>\n",
       "</div>"
      ],
      "text/plain": [
       "       SPID    PROP_ID PREFERENCE  \\\n",
       "0  69961448  Z69961448          S   \n",
       "1  62141426  Y62141426          S   \n",
       "2  69248094  P69248094          S   \n",
       "3  69293622  M69293622          S   \n",
       "4  69248544  P69248544          S   \n",
       "\n",
       "                                         DESCRIPTION  \\\n",
       "0  Its park pool facing flat with all interior do...   \n",
       "1  Brand new ultra luxury builder floor of 360 sq...   \n",
       "2  Brand new 502 yards floor available in dlf pha...   \n",
       "3  Park facing 4bhk sq with ultra luxury modern a...   \n",
       "4  Brand new 402 yards floor available in dlf pha...   \n",
       "\n",
       "               PROPERTY_TYPE     CITY  TRANSACT_TYPE  OWNTYPE  BEDROOM_NUM  \\\n",
       "0      Residential Apartment  Gurgaon            1.0        1          4.0   \n",
       "1  Independent/Builder Floor  Gurgaon            1.0        1          4.0   \n",
       "2  Independent/Builder Floor  Gurgaon            1.0        1          4.0   \n",
       "3  Independent/Builder Floor  Gurgaon            1.0        1          4.0   \n",
       "4  Independent/Builder Floor  Gurgaon            1.0        1          4.0   \n",
       "\n",
       "   PRICE_PER_UNIT_AREA  ...  REGISTERED_DAYS  PRIMARY_TAGS  \\\n",
       "0               7435.0  ...      2 weeks ago  ['FEATURED']   \n",
       "1              10493.0  ...       6 days ago  ['FEATURED']   \n",
       "2              12061.0  ...      1 month ago            []   \n",
       "3              13076.0  ...      1 month ago            []   \n",
       "4              13520.0  ...      1 month ago            []   \n",
       "\n",
       "                        SECONDARY_TAGS  TOTAL_LANDMARK_COUNT  \\\n",
       "0  ['READY TO MOVE', 'RESALE', 'RERA']                  10.0   \n",
       "1     ['UNDER CONSTRUCTION', 'RESALE']                  47.0   \n",
       "2          ['READY TO MOVE', 'RESALE']                  47.0   \n",
       "3          ['READY TO MOVE', 'RESALE']                  44.0   \n",
       "4          ['READY TO MOVE', 'RESALE']                  47.0   \n",
       "\n",
       "                          FORMATTED_LANDMARK_DETAILS             SOCIETY_NAME  \\\n",
       "0  [{'text': '1 Shopping'}, {'text': '2 Connectiv...     Emaar MGF Palm Hills   \n",
       "1  [{'text': '3 Metro Stations'}, {'text': '2 Rel...  Brand New Builder Floor   \n",
       "2  [{'text': '6 Metro Stations'}, {'text': '1 Rel...                      NaN   \n",
       "3  [{'text': '6 Metro Stations'}, {'text': '1 Rel...              Park Facing   \n",
       "4  [{'text': '6 Metro Stations'}, {'text': '2 Rel...                      NaN   \n",
       "\n",
       "             BUILDING_NAME                                           location  \\\n",
       "0     Emaar MGF Palm Hills  {'CITY': '8', 'CITY_NAME': 'Gurgaon', 'BUILDIN...   \n",
       "1  Brand New Builder Floor  {'CITY': '8', 'CITY_NAME': 'Gurgaon', 'BUILDIN...   \n",
       "2                      NaN  {'CITY': '8', 'CITY_NAME': 'Gurgaon', 'BUILDIN...   \n",
       "3              Park Facing  {'CITY': '8', 'CITY_NAME': 'Gurgaon', 'BUILDIN...   \n",
       "4                      NaN  {'CITY': '8', 'CITY_NAME': 'Gurgaon', 'BUILDIN...   \n",
       "\n",
       "  BALCONY_NUM FLOOR_NUM  \n",
       "0         4.0         4  \n",
       "1         2.0         2  \n",
       "2         3.0         3  \n",
       "3         4.0         2  \n",
       "4         3.0         2  \n",
       "\n",
       "[5 rows x 55 columns]"
      ]
     },
     "execution_count": 3,
     "metadata": {},
     "output_type": "execute_result"
    }
   ],
   "source": [
    "srp = pd.read_csv(\"data/srp.csv\")\n",
    "print(srp.shape)\n",
    "srp.head()"
   ]
  },
  {
   "cell_type": "code",
   "execution_count": 4,
   "metadata": {},
   "outputs": [
    {
     "data": {
      "text/plain": [
       "Index(['SPID', 'PROP_ID', 'PREFERENCE', 'DESCRIPTION', 'PROPERTY_TYPE', 'CITY',\n",
       "       'TRANSACT_TYPE', 'OWNTYPE', 'BEDROOM_NUM', 'PRICE_PER_UNIT_AREA',\n",
       "       'FURNISH', 'FACING', 'AGE', 'TOTAL_FLOOR', 'FEATURES', 'REGISTER_DATE',\n",
       "       'POSTING_DATE', 'UPDATE_DATE', 'CLASS', 'RES_COM', 'PROP_NAME',\n",
       "       'PROPERTY_NUMBER', 'MIN_PRICE', 'MAX_PRICE', 'PRICE_SQFT', 'PROJ_ID',\n",
       "       'BUILDING_ID', 'VERIFIED', 'MAP_DETAILS', 'MIN_AREA_SQFT',\n",
       "       'MAX_AREA_SQFT', 'AMENITIES', 'ALT_TAG', 'PRODUCT_TYPE', 'TOP_USPS',\n",
       "       'EXPIRY_DATE', 'PROPERTY_TYPE__U', 'AREA', 'SECONDARY_AREA', 'PRICE',\n",
       "       'PROP_HEADING', 'VALUE_LABEL', 'CLASS_HEADING', 'CLASS_LABEL',\n",
       "       'REGISTER_DATE__U', 'REGISTERED_DAYS', 'PRIMARY_TAGS', 'SECONDARY_TAGS',\n",
       "       'TOTAL_LANDMARK_COUNT', 'FORMATTED_LANDMARK_DETAILS', 'SOCIETY_NAME',\n",
       "       'BUILDING_NAME', 'location', 'BALCONY_NUM', 'FLOOR_NUM'],\n",
       "      dtype='object')"
      ]
     },
     "execution_count": 4,
     "metadata": {},
     "output_type": "execute_result"
    }
   ],
   "source": [
    "srp.columns"
   ]
  },
  {
   "cell_type": "code",
   "execution_count": 5,
   "metadata": {},
   "outputs": [
    {
     "data": {
      "text/plain": [
       "(2, 13, 6, 5)"
      ]
     },
     "execution_count": 5,
     "metadata": {},
     "output_type": "execute_result"
    }
   ],
   "source": [
    "regular_cols = [\n",
    "    \"SPID\",\n",
    "    \"PROP_ID\",\n",
    "]\n",
    "\n",
    "extra_cols = [\n",
    "    \"SECONDARY_TAGS\",\n",
    "    \"TOTAL_LANDMARK_COUNT\",\n",
    "    \"FORMATTED_LANDMARK_DETAILS\",\n",
    "    \"MAP_DETAILS\",\n",
    "    \"PROP_HEADING\",\n",
    "    \"DESCRIPTION\",\n",
    "    \"PROPERTY_TYPE\",\n",
    "    \"location\",\n",
    "    \"FURNISH\",\n",
    "    \"FACING\",\n",
    "    \"AGE\",\n",
    "    \"TOTAL_FLOOR\",\n",
    "    \"FEATURES\",\n",
    "]\n",
    "\n",
    "price_and_area_cols = [\n",
    "    \"AREA\",\n",
    "    \"PRICE\",\n",
    "    \"PRICE_PER_UNIT_AREA\",\n",
    "    \"PRICE_SQFT\",\n",
    "    \"MAX_PRICE\",\n",
    "    \"MAX_AREA_SQFT\",\n",
    "]\n",
    "\n",
    "rejected_cols = [\n",
    "    \"MIN_PRICE\",\n",
    "    \"MIN_AREA_SQFT\",\n",
    "    \"SECONDARY_AREA\",\n",
    "]\n",
    "\n",
    "missing_cols = [\n",
    "    \"BEDROOM_NUM\",  # need to extract the BHK detials\n",
    "    # 'BATHROOM_NUM',  # not available\n",
    "    \"AMENITIES\",\n",
    "    \"PROP_NAME\",\n",
    "    \"BALCONY_NUM\",\n",
    "    \"FLOOR_NUM\",\n",
    "]\n",
    "\n",
    "len(regular_cols), len(extra_cols), len(price_and_area_cols), len(missing_cols)"
   ]
  },
  {
   "cell_type": "code",
   "execution_count": 6,
   "metadata": {},
   "outputs": [
    {
     "data": {
      "text/plain": [
       "29"
      ]
     },
     "execution_count": 6,
     "metadata": {},
     "output_type": "execute_result"
    }
   ],
   "source": [
    "all_cols = (\n",
    "    regular_cols + extra_cols + price_and_area_cols + rejected_cols + missing_cols\n",
    ")\n",
    "len(all_cols)"
   ]
  },
  {
   "cell_type": "code",
   "execution_count": 7,
   "metadata": {},
   "outputs": [
    {
     "data": {
      "text/plain": [
       "(3385, 29)"
      ]
     },
     "execution_count": 7,
     "metadata": {},
     "output_type": "execute_result"
    }
   ],
   "source": [
    "df = srp[all_cols].copy()\n",
    "df.shape"
   ]
  },
  {
   "cell_type": "code",
   "execution_count": 8,
   "metadata": {},
   "outputs": [
    {
     "data": {
      "text/plain": [
       "(15, 14)"
      ]
     },
     "execution_count": 8,
     "metadata": {},
     "output_type": "execute_result"
    }
   ],
   "source": [
    "num_cols = df.select_dtypes([\"float\", \"int\"]).columns\n",
    "cat_cols = df.select_dtypes(\"object\").columns\n",
    "\n",
    "len(cat_cols), len(num_cols)"
   ]
  },
  {
   "cell_type": "code",
   "execution_count": 9,
   "metadata": {},
   "outputs": [
    {
     "data": {
      "text/plain": [
       "<Axes: ylabel='Missing values (in %)'>"
      ]
     },
     "execution_count": 9,
     "metadata": {},
     "output_type": "execute_result"
    },
    {
     "data": {
      "image/png": "[encoded data removed]",
      "text/plain": [
       "<Figure size 2250x750 with 1 Axes>"
      ]
     },
     "metadata": {},
     "output_type": "display_data"
    }
   ],
   "source": [
    "(\n",
    "    df.isnull()\n",
    "    .sum()\n",
    "    .div(df.shape[0])\n",
    "    .plot(kind=\"bar\", figsize=(15, 5), ylabel=\"Missing values (in %)\")\n",
    ")"
   ]
  },
  {
   "cell_type": "markdown",
   "metadata": {},
   "source": [
    "## Price and Area"
   ]
  },
  {
   "cell_type": "code",
   "execution_count": 10,
   "metadata": {},
   "outputs": [
    {
     "data": {
      "text/plain": [
       "(['PRICE', 'PRICE_PER_UNIT_AREA', 'PRICE_SQFT', 'MAX_PRICE'],\n",
       " ['AREA', 'MAX_AREA_SQFT', 'AREA_SQFT'])"
      ]
     },
     "execution_count": 10,
     "metadata": {},
     "output_type": "execute_result"
    }
   ],
   "source": [
    "price_cols = [\"PRICE\", \"PRICE_PER_UNIT_AREA\", \"PRICE_SQFT\", \"MAX_PRICE\"]\n",
    "area_cols = [\"AREA\", \"MAX_AREA_SQFT\", \"AREA_SQFT\"]\n",
    "\n",
    "price_cols, area_cols"
   ]
  },
  {
   "cell_type": "code",
   "execution_count": 11,
   "metadata": {},
   "outputs": [
    {
     "data": {
      "text/html": [
       "<div>\n",
       "<style scoped>\n",
       "    .dataframe tbody tr th:only-of-type {\n",
       "        vertical-align: middle;\n",
       "    }\n",
       "\n",
       "    .dataframe tbody tr th {\n",
       "        vertical-align: top;\n",
       "    }\n",
       "\n",
       "    .dataframe thead th {\n",
       "        text-align: right;\n",
       "    }\n",
       "</style>\n",
       "<table border=\"1\" class=\"dataframe\">\n",
       "  <thead>\n",
       "    <tr style=\"text-align: right;\">\n",
       "      <th></th>\n",
       "      <th>SPID</th>\n",
       "      <th>PROP_ID</th>\n",
       "      <th>SECONDARY_TAGS</th>\n",
       "      <th>TOTAL_LANDMARK_COUNT</th>\n",
       "      <th>FORMATTED_LANDMARK_DETAILS</th>\n",
       "      <th>MAP_DETAILS</th>\n",
       "      <th>PROP_HEADING</th>\n",
       "      <th>DESCRIPTION</th>\n",
       "      <th>PROPERTY_TYPE</th>\n",
       "      <th>location</th>\n",
       "      <th>...</th>\n",
       "      <th>MAX_PRICE</th>\n",
       "      <th>MAX_AREA_SQFT</th>\n",
       "      <th>MIN_PRICE</th>\n",
       "      <th>MIN_AREA_SQFT</th>\n",
       "      <th>SECONDARY_AREA</th>\n",
       "      <th>BEDROOM_NUM</th>\n",
       "      <th>AMENITIES</th>\n",
       "      <th>PROP_NAME</th>\n",
       "      <th>BALCONY_NUM</th>\n",
       "      <th>FLOOR_NUM</th>\n",
       "    </tr>\n",
       "  </thead>\n",
       "  <tbody>\n",
       "  </tbody>\n",
       "</table>\n",
       "<p>0 rows × 29 columns</p>\n",
       "</div>"
      ],
      "text/plain": [
       "Empty DataFrame\n",
       "Columns: [SPID, PROP_ID, SECONDARY_TAGS, TOTAL_LANDMARK_COUNT, FORMATTED_LANDMARK_DETAILS, MAP_DETAILS, PROP_HEADING, DESCRIPTION, PROPERTY_TYPE, location, FURNISH, FACING, AGE, TOTAL_FLOOR, FEATURES, AREA, PRICE, PRICE_PER_UNIT_AREA, PRICE_SQFT, MAX_PRICE, MAX_AREA_SQFT, MIN_PRICE, MIN_AREA_SQFT, SECONDARY_AREA, BEDROOM_NUM, AMENITIES, PROP_NAME, BALCONY_NUM, FLOOR_NUM]\n",
       "Index: []\n",
       "\n",
       "[0 rows x 29 columns]"
      ]
     },
     "execution_count": 11,
     "metadata": {},
     "output_type": "execute_result"
    }
   ],
   "source": [
    "df[\n",
    "    (df[\"MIN_PRICE\"].sub(df[\"MAX_PRICE\"]) > 0)\n",
    "    | (df[\"MIN_AREA_SQFT\"].sub(df[\"MAX_AREA_SQFT\"]) > 0)\n",
    "]"
   ]
  },
  {
   "cell_type": "markdown",
   "metadata": {},
   "source": [
    "If `('MAX_*' - 'MIN_*' == 0)` this means both features contains same values. You can use anyone of them."
   ]
  },
  {
   "cell_type": "code",
   "execution_count": 12,
   "metadata": {},
   "outputs": [
    {
     "data": {
      "text/html": [
       "<div>\n",
       "<style scoped>\n",
       "    .dataframe tbody tr th:only-of-type {\n",
       "        vertical-align: middle;\n",
       "    }\n",
       "\n",
       "    .dataframe tbody tr th {\n",
       "        vertical-align: top;\n",
       "    }\n",
       "\n",
       "    .dataframe thead th {\n",
       "        text-align: right;\n",
       "    }\n",
       "</style>\n",
       "<table border=\"1\" class=\"dataframe\">\n",
       "  <thead>\n",
       "    <tr style=\"text-align: right;\">\n",
       "      <th></th>\n",
       "      <th>SPID</th>\n",
       "      <th>PROP_ID</th>\n",
       "      <th>SECONDARY_TAGS</th>\n",
       "      <th>TOTAL_LANDMARK_COUNT</th>\n",
       "      <th>FORMATTED_LANDMARK_DETAILS</th>\n",
       "      <th>MAP_DETAILS</th>\n",
       "      <th>PROP_HEADING</th>\n",
       "      <th>DESCRIPTION</th>\n",
       "      <th>PROPERTY_TYPE</th>\n",
       "      <th>location</th>\n",
       "      <th>...</th>\n",
       "      <th>MAX_PRICE</th>\n",
       "      <th>MAX_AREA_SQFT</th>\n",
       "      <th>MIN_PRICE</th>\n",
       "      <th>MIN_AREA_SQFT</th>\n",
       "      <th>SECONDARY_AREA</th>\n",
       "      <th>BEDROOM_NUM</th>\n",
       "      <th>AMENITIES</th>\n",
       "      <th>PROP_NAME</th>\n",
       "      <th>BALCONY_NUM</th>\n",
       "      <th>FLOOR_NUM</th>\n",
       "    </tr>\n",
       "  </thead>\n",
       "  <tbody>\n",
       "  </tbody>\n",
       "</table>\n",
       "<p>0 rows × 29 columns</p>\n",
       "</div>"
      ],
      "text/plain": [
       "Empty DataFrame\n",
       "Columns: [SPID, PROP_ID, SECONDARY_TAGS, TOTAL_LANDMARK_COUNT, FORMATTED_LANDMARK_DETAILS, MAP_DETAILS, PROP_HEADING, DESCRIPTION, PROPERTY_TYPE, location, FURNISH, FACING, AGE, TOTAL_FLOOR, FEATURES, AREA, PRICE, PRICE_PER_UNIT_AREA, PRICE_SQFT, MAX_PRICE, MAX_AREA_SQFT, MIN_PRICE, MIN_AREA_SQFT, SECONDARY_AREA, BEDROOM_NUM, AMENITIES, PROP_NAME, BALCONY_NUM, FLOOR_NUM]\n",
       "Index: []\n",
       "\n",
       "[0 rows x 29 columns]"
      ]
     },
     "execution_count": 12,
     "metadata": {},
     "output_type": "execute_result"
    }
   ],
   "source": [
    "df[~df[\"AREA\"].str.contains(\"sq.ft.\")]"
   ]
  },
  {
   "cell_type": "code",
   "execution_count": 13,
   "metadata": {},
   "outputs": [
    {
     "data": {
      "text/html": [
       "<div>\n",
       "<style scoped>\n",
       "    .dataframe tbody tr th:only-of-type {\n",
       "        vertical-align: middle;\n",
       "    }\n",
       "\n",
       "    .dataframe tbody tr th {\n",
       "        vertical-align: top;\n",
       "    }\n",
       "\n",
       "    .dataframe thead th {\n",
       "        text-align: right;\n",
       "    }\n",
       "</style>\n",
       "<table border=\"1\" class=\"dataframe\">\n",
       "  <thead>\n",
       "    <tr style=\"text-align: right;\">\n",
       "      <th></th>\n",
       "      <th>SPID</th>\n",
       "      <th>PROP_ID</th>\n",
       "      <th>SECONDARY_TAGS</th>\n",
       "      <th>TOTAL_LANDMARK_COUNT</th>\n",
       "      <th>FORMATTED_LANDMARK_DETAILS</th>\n",
       "      <th>MAP_DETAILS</th>\n",
       "      <th>PROP_HEADING</th>\n",
       "      <th>DESCRIPTION</th>\n",
       "      <th>PROPERTY_TYPE</th>\n",
       "      <th>location</th>\n",
       "      <th>...</th>\n",
       "      <th>MAX_PRICE</th>\n",
       "      <th>MAX_AREA_SQFT</th>\n",
       "      <th>MIN_PRICE</th>\n",
       "      <th>MIN_AREA_SQFT</th>\n",
       "      <th>SECONDARY_AREA</th>\n",
       "      <th>BEDROOM_NUM</th>\n",
       "      <th>AMENITIES</th>\n",
       "      <th>PROP_NAME</th>\n",
       "      <th>BALCONY_NUM</th>\n",
       "      <th>FLOOR_NUM</th>\n",
       "    </tr>\n",
       "  </thead>\n",
       "  <tbody>\n",
       "  </tbody>\n",
       "</table>\n",
       "<p>0 rows × 29 columns</p>\n",
       "</div>"
      ],
      "text/plain": [
       "Empty DataFrame\n",
       "Columns: [SPID, PROP_ID, SECONDARY_TAGS, TOTAL_LANDMARK_COUNT, FORMATTED_LANDMARK_DETAILS, MAP_DETAILS, PROP_HEADING, DESCRIPTION, PROPERTY_TYPE, location, FURNISH, FACING, AGE, TOTAL_FLOOR, FEATURES, AREA, PRICE, PRICE_PER_UNIT_AREA, PRICE_SQFT, MAX_PRICE, MAX_AREA_SQFT, MIN_PRICE, MIN_AREA_SQFT, SECONDARY_AREA, BEDROOM_NUM, AMENITIES, PROP_NAME, BALCONY_NUM, FLOOR_NUM]\n",
       "Index: []\n",
       "\n",
       "[0 rows x 29 columns]"
      ]
     },
     "execution_count": 13,
     "metadata": {},
     "output_type": "execute_result"
    }
   ],
   "source": [
    "df[~df[\"SECONDARY_AREA\"].str.contains(\"sq.m.\")]"
   ]
  },
  {
   "cell_type": "code",
   "execution_count": 14,
   "metadata": {},
   "outputs": [
    {
     "data": {
      "text/html": [
       "<div>\n",
       "<style scoped>\n",
       "    .dataframe tbody tr th:only-of-type {\n",
       "        vertical-align: middle;\n",
       "    }\n",
       "\n",
       "    .dataframe tbody tr th {\n",
       "        vertical-align: top;\n",
       "    }\n",
       "\n",
       "    .dataframe thead th {\n",
       "        text-align: right;\n",
       "    }\n",
       "</style>\n",
       "<table border=\"1\" class=\"dataframe\">\n",
       "  <thead>\n",
       "    <tr style=\"text-align: right;\">\n",
       "      <th></th>\n",
       "      <th>AREA</th>\n",
       "      <th>SECONDARY_AREA</th>\n",
       "    </tr>\n",
       "  </thead>\n",
       "  <tbody>\n",
       "    <tr>\n",
       "      <th>1296</th>\n",
       "      <td>598 sq.ft.</td>\n",
       "      <td>55.56 sq.m.</td>\n",
       "    </tr>\n",
       "    <tr>\n",
       "      <th>656</th>\n",
       "      <td>1935 sq.ft.</td>\n",
       "      <td>179.77 sq.m.</td>\n",
       "    </tr>\n",
       "    <tr>\n",
       "      <th>2920</th>\n",
       "      <td>1628 sq.ft.</td>\n",
       "      <td>151.25 sq.m.</td>\n",
       "    </tr>\n",
       "    <tr>\n",
       "      <th>794</th>\n",
       "      <td>1672 sq.ft.</td>\n",
       "      <td>155.33 sq.m.</td>\n",
       "    </tr>\n",
       "    <tr>\n",
       "      <th>3207</th>\n",
       "      <td>1245 sq.ft.</td>\n",
       "      <td>115.66 sq.m.</td>\n",
       "    </tr>\n",
       "    <tr>\n",
       "      <th>1945</th>\n",
       "      <td>2600 sq.ft.</td>\n",
       "      <td>241.55 sq.m.</td>\n",
       "    </tr>\n",
       "    <tr>\n",
       "      <th>2907</th>\n",
       "      <td>2120 sq.ft.</td>\n",
       "      <td>196.95 sq.m.</td>\n",
       "    </tr>\n",
       "  </tbody>\n",
       "</table>\n",
       "</div>"
      ],
      "text/plain": [
       "             AREA SECONDARY_AREA\n",
       "1296   598 sq.ft.    55.56 sq.m.\n",
       "656   1935 sq.ft.   179.77 sq.m.\n",
       "2920  1628 sq.ft.   151.25 sq.m.\n",
       "794   1672 sq.ft.   155.33 sq.m.\n",
       "3207  1245 sq.ft.   115.66 sq.m.\n",
       "1945  2600 sq.ft.   241.55 sq.m.\n",
       "2907  2120 sq.ft.   196.95 sq.m."
      ]
     },
     "execution_count": 14,
     "metadata": {},
     "output_type": "execute_result"
    }
   ],
   "source": [
    "df[[\"AREA\", \"SECONDARY_AREA\"]].sample(7)"
   ]
  },
  {
   "cell_type": "code",
   "execution_count": 15,
   "metadata": {},
   "outputs": [
    {
     "data": {
      "text/html": [
       "<div>\n",
       "<style scoped>\n",
       "    .dataframe tbody tr th:only-of-type {\n",
       "        vertical-align: middle;\n",
       "    }\n",
       "\n",
       "    .dataframe tbody tr th {\n",
       "        vertical-align: top;\n",
       "    }\n",
       "\n",
       "    .dataframe thead th {\n",
       "        text-align: right;\n",
       "    }\n",
       "</style>\n",
       "<table border=\"1\" class=\"dataframe\">\n",
       "  <thead>\n",
       "    <tr style=\"text-align: right;\">\n",
       "      <th></th>\n",
       "      <th>PRICE</th>\n",
       "      <th>MIN_PRICE</th>\n",
       "    </tr>\n",
       "  </thead>\n",
       "  <tbody>\n",
       "    <tr>\n",
       "      <th>1376</th>\n",
       "      <td>40 L</td>\n",
       "      <td>4000000</td>\n",
       "    </tr>\n",
       "    <tr>\n",
       "      <th>1317</th>\n",
       "      <td>1.17 Cr</td>\n",
       "      <td>11700000</td>\n",
       "    </tr>\n",
       "    <tr>\n",
       "      <th>2897</th>\n",
       "      <td>1.5 Cr</td>\n",
       "      <td>15000000</td>\n",
       "    </tr>\n",
       "    <tr>\n",
       "      <th>1650</th>\n",
       "      <td>3.1 Cr</td>\n",
       "      <td>31000000</td>\n",
       "    </tr>\n",
       "    <tr>\n",
       "      <th>2524</th>\n",
       "      <td>1.84 Cr</td>\n",
       "      <td>18392000</td>\n",
       "    </tr>\n",
       "    <tr>\n",
       "      <th>2134</th>\n",
       "      <td>66 L</td>\n",
       "      <td>6600000</td>\n",
       "    </tr>\n",
       "    <tr>\n",
       "      <th>3181</th>\n",
       "      <td>1.68 Cr</td>\n",
       "      <td>16800000</td>\n",
       "    </tr>\n",
       "  </tbody>\n",
       "</table>\n",
       "</div>"
      ],
      "text/plain": [
       "        PRICE  MIN_PRICE\n",
       "1376     40 L    4000000\n",
       "1317  1.17 Cr   11700000\n",
       "2897   1.5 Cr   15000000\n",
       "1650   3.1 Cr   31000000\n",
       "2524  1.84 Cr   18392000\n",
       "2134     66 L    6600000\n",
       "3181  1.68 Cr   16800000"
      ]
     },
     "execution_count": 15,
     "metadata": {},
     "output_type": "execute_result"
    }
   ],
   "source": [
    "df[[\"PRICE\", \"MIN_PRICE\"]].sample(7)"
   ]
  },
  {
   "cell_type": "markdown",
   "metadata": {},
   "source": [
    "Here, `MIN_PRICE` is integer value of `PRICE` column which is in string value."
   ]
  },
  {
   "cell_type": "code",
   "execution_count": 16,
   "metadata": {},
   "outputs": [
    {
     "data": {
      "text/html": [
       "<div>\n",
       "<style scoped>\n",
       "    .dataframe tbody tr th:only-of-type {\n",
       "        vertical-align: middle;\n",
       "    }\n",
       "\n",
       "    .dataframe tbody tr th {\n",
       "        vertical-align: top;\n",
       "    }\n",
       "\n",
       "    .dataframe thead th {\n",
       "        text-align: right;\n",
       "    }\n",
       "</style>\n",
       "<table border=\"1\" class=\"dataframe\">\n",
       "  <thead>\n",
       "    <tr style=\"text-align: right;\">\n",
       "      <th></th>\n",
       "      <th>AREA</th>\n",
       "      <th>MIN_AREA_SQFT</th>\n",
       "    </tr>\n",
       "  </thead>\n",
       "  <tbody>\n",
       "    <tr>\n",
       "      <th>2123</th>\n",
       "      <td>1423 sq.ft.</td>\n",
       "      <td>132.200969</td>\n",
       "    </tr>\n",
       "    <tr>\n",
       "      <th>395</th>\n",
       "      <td>900 sq.ft.</td>\n",
       "      <td>83.612700</td>\n",
       "    </tr>\n",
       "    <tr>\n",
       "      <th>1074</th>\n",
       "      <td>2813 sq.ft.</td>\n",
       "      <td>261.336139</td>\n",
       "    </tr>\n",
       "    <tr>\n",
       "      <th>880</th>\n",
       "      <td>1620 sq.ft.</td>\n",
       "      <td>150.502860</td>\n",
       "    </tr>\n",
       "    <tr>\n",
       "      <th>2407</th>\n",
       "      <td>2200 sq.ft.</td>\n",
       "      <td>204.386600</td>\n",
       "    </tr>\n",
       "    <tr>\n",
       "      <th>1968</th>\n",
       "      <td>1383-1572  sq.ft.</td>\n",
       "      <td>128.484849</td>\n",
       "    </tr>\n",
       "    <tr>\n",
       "      <th>1179</th>\n",
       "      <td>716 sq.ft.</td>\n",
       "      <td>66.518548</td>\n",
       "    </tr>\n",
       "  </tbody>\n",
       "</table>\n",
       "</div>"
      ],
      "text/plain": [
       "                   AREA  MIN_AREA_SQFT\n",
       "2123        1423 sq.ft.     132.200969\n",
       "395          900 sq.ft.      83.612700\n",
       "1074        2813 sq.ft.     261.336139\n",
       "880         1620 sq.ft.     150.502860\n",
       "2407        2200 sq.ft.     204.386600\n",
       "1968  1383-1572  sq.ft.     128.484849\n",
       "1179         716 sq.ft.      66.518548"
      ]
     },
     "execution_count": 16,
     "metadata": {},
     "output_type": "execute_result"
    }
   ],
   "source": [
    "df[[\"AREA\", \"MIN_AREA_SQFT\"]].sample(7)"
   ]
  },
  {
   "cell_type": "code",
   "execution_count": 17,
   "metadata": {},
   "outputs": [
    {
     "data": {
      "text/html": [
       "<div>\n",
       "<style scoped>\n",
       "    .dataframe tbody tr th:only-of-type {\n",
       "        vertical-align: middle;\n",
       "    }\n",
       "\n",
       "    .dataframe tbody tr th {\n",
       "        vertical-align: top;\n",
       "    }\n",
       "\n",
       "    .dataframe thead th {\n",
       "        text-align: right;\n",
       "    }\n",
       "</style>\n",
       "<table border=\"1\" class=\"dataframe\">\n",
       "  <thead>\n",
       "    <tr style=\"text-align: right;\">\n",
       "      <th></th>\n",
       "      <th>PRICE</th>\n",
       "      <th>PRICE_SQFT</th>\n",
       "      <th>PRICE_PER_UNIT_AREA</th>\n",
       "      <th>AREA</th>\n",
       "      <th>MAX_AREA_SQFT</th>\n",
       "    </tr>\n",
       "  </thead>\n",
       "  <tbody>\n",
       "    <tr>\n",
       "      <th>1764</th>\n",
       "      <td>1.27  - 1.51 Cr</td>\n",
       "      <td>13199.0</td>\n",
       "      <td>13199.0</td>\n",
       "      <td>959-1145  sq.ft.</td>\n",
       "      <td>106.373935</td>\n",
       "    </tr>\n",
       "    <tr>\n",
       "      <th>675</th>\n",
       "      <td>2.2 Cr</td>\n",
       "      <td>9490.0</td>\n",
       "      <td>9490.0</td>\n",
       "      <td>2318 sq.ft.</td>\n",
       "      <td>215.349154</td>\n",
       "    </tr>\n",
       "    <tr>\n",
       "      <th>1641</th>\n",
       "      <td>1.18 Cr</td>\n",
       "      <td>6490.0</td>\n",
       "      <td>6490.0</td>\n",
       "      <td>1818 sq.ft.</td>\n",
       "      <td>168.897654</td>\n",
       "    </tr>\n",
       "    <tr>\n",
       "      <th>2247</th>\n",
       "      <td>1.8 Cr</td>\n",
       "      <td>8571.0</td>\n",
       "      <td>8571.0</td>\n",
       "      <td>2100 sq.ft.</td>\n",
       "      <td>195.096300</td>\n",
       "    </tr>\n",
       "    <tr>\n",
       "      <th>2513</th>\n",
       "      <td>1.06 Cr</td>\n",
       "      <td>5102.0</td>\n",
       "      <td>5102.0</td>\n",
       "      <td>2077 sq.ft.</td>\n",
       "      <td>192.959531</td>\n",
       "    </tr>\n",
       "    <tr>\n",
       "      <th>2173</th>\n",
       "      <td>1.33 Cr</td>\n",
       "      <td>13274.0</td>\n",
       "      <td>13274.0</td>\n",
       "      <td>1000 sq.ft.</td>\n",
       "      <td>92.903000</td>\n",
       "    </tr>\n",
       "    <tr>\n",
       "      <th>100</th>\n",
       "      <td>2.65 Cr</td>\n",
       "      <td>87748.0</td>\n",
       "      <td>87748.0</td>\n",
       "      <td>302 sq.ft.</td>\n",
       "      <td>28.056706</td>\n",
       "    </tr>\n",
       "  </tbody>\n",
       "</table>\n",
       "</div>"
      ],
      "text/plain": [
       "                PRICE  PRICE_SQFT  PRICE_PER_UNIT_AREA              AREA  \\\n",
       "1764  1.27  - 1.51 Cr     13199.0              13199.0  959-1145  sq.ft.   \n",
       "675            2.2 Cr      9490.0               9490.0       2318 sq.ft.   \n",
       "1641          1.18 Cr      6490.0               6490.0       1818 sq.ft.   \n",
       "2247           1.8 Cr      8571.0               8571.0       2100 sq.ft.   \n",
       "2513          1.06 Cr      5102.0               5102.0       2077 sq.ft.   \n",
       "2173          1.33 Cr     13274.0              13274.0       1000 sq.ft.   \n",
       "100           2.65 Cr     87748.0              87748.0        302 sq.ft.   \n",
       "\n",
       "      MAX_AREA_SQFT  \n",
       "1764     106.373935  \n",
       "675      215.349154  \n",
       "1641     168.897654  \n",
       "2247     195.096300  \n",
       "2513     192.959531  \n",
       "2173      92.903000  \n",
       "100       28.056706  "
      ]
     },
     "execution_count": 17,
     "metadata": {},
     "output_type": "execute_result"
    }
   ],
   "source": [
    "df[[\"PRICE\", \"PRICE_SQFT\", \"PRICE_PER_UNIT_AREA\", \"AREA\", \"MAX_AREA_SQFT\"]].sample(7)"
   ]
  },
  {
   "cell_type": "markdown",
   "metadata": {},
   "source": [
    "## Extra"
   ]
  },
  {
   "cell_type": "code",
   "execution_count": 18,
   "metadata": {},
   "outputs": [
    {
     "data": {
      "text/html": [
       "<div>\n",
       "<style scoped>\n",
       "    .dataframe tbody tr th:only-of-type {\n",
       "        vertical-align: middle;\n",
       "    }\n",
       "\n",
       "    .dataframe tbody tr th {\n",
       "        vertical-align: top;\n",
       "    }\n",
       "\n",
       "    .dataframe thead th {\n",
       "        text-align: right;\n",
       "    }\n",
       "</style>\n",
       "<table border=\"1\" class=\"dataframe\">\n",
       "  <thead>\n",
       "    <tr style=\"text-align: right;\">\n",
       "      <th></th>\n",
       "      <th>TOTAL_LANDMARK_COUNT</th>\n",
       "      <th>FORMATTED_LANDMARK_DETAILS</th>\n",
       "    </tr>\n",
       "  </thead>\n",
       "  <tbody>\n",
       "    <tr>\n",
       "      <th>2651</th>\n",
       "      <td>10.0</td>\n",
       "      <td>[{'text': '1 Shopping'}, {'text': '2 Connectiv...</td>\n",
       "    </tr>\n",
       "    <tr>\n",
       "      <th>1547</th>\n",
       "      <td>12.0</td>\n",
       "      <td>[{'text': '1 Metro Station'}, {'text': '2 Conn...</td>\n",
       "    </tr>\n",
       "    <tr>\n",
       "      <th>1563</th>\n",
       "      <td>10.0</td>\n",
       "      <td>[{'text': '1 Metro Station'}, {'text': '1 Shop...</td>\n",
       "    </tr>\n",
       "    <tr>\n",
       "      <th>1647</th>\n",
       "      <td>15.0</td>\n",
       "      <td>[{'text': '2 Shoppings'}, {'text': '5 Educatio...</td>\n",
       "    </tr>\n",
       "    <tr>\n",
       "      <th>524</th>\n",
       "      <td>49.0</td>\n",
       "      <td>[{'text': '1 Religious Place'}, {'text': '1 AT...</td>\n",
       "    </tr>\n",
       "    <tr>\n",
       "      <th>2276</th>\n",
       "      <td>6.0</td>\n",
       "      <td>[{'text': '1 Hospital'}, {'text': '3 Miscellan...</td>\n",
       "    </tr>\n",
       "    <tr>\n",
       "      <th>2975</th>\n",
       "      <td>9.0</td>\n",
       "      <td>[{'text': '1 Shopping'}, {'text': '3 Connectiv...</td>\n",
       "    </tr>\n",
       "  </tbody>\n",
       "</table>\n",
       "</div>"
      ],
      "text/plain": [
       "      TOTAL_LANDMARK_COUNT                         FORMATTED_LANDMARK_DETAILS\n",
       "2651                  10.0  [{'text': '1 Shopping'}, {'text': '2 Connectiv...\n",
       "1547                  12.0  [{'text': '1 Metro Station'}, {'text': '2 Conn...\n",
       "1563                  10.0  [{'text': '1 Metro Station'}, {'text': '1 Shop...\n",
       "1647                  15.0  [{'text': '2 Shoppings'}, {'text': '5 Educatio...\n",
       "524                   49.0  [{'text': '1 Religious Place'}, {'text': '1 AT...\n",
       "2276                   6.0  [{'text': '1 Hospital'}, {'text': '3 Miscellan...\n",
       "2975                   9.0  [{'text': '1 Shopping'}, {'text': '3 Connectiv..."
      ]
     },
     "execution_count": 18,
     "metadata": {},
     "output_type": "execute_result"
    }
   ],
   "source": [
    "df[[\"TOTAL_LANDMARK_COUNT\", \"FORMATTED_LANDMARK_DETAILS\"]].sample(7)"
   ]
  },
  {
   "cell_type": "code",
   "execution_count": 19,
   "metadata": {},
   "outputs": [
    {
     "data": {
      "text/plain": [
       "array(['READY TO MOVE', 'RESALE', 'RERA', 'UNDER CONSTRUCTION',\n",
       "       'EAST FACING', 'HUDA APPROVED', 'IN GATED COMMUNITY',\n",
       "       'CORNER PROPERTY', 'NORTH FACING', 'NORTH-EAST FACING',\n",
       "       'NEW BOOKING', 'AUTHORITY APPROVED', 'HHB APPROVED',\n",
       "       'HSIIDC APPROVED', 'NEW LAUNCH'], dtype=object)"
      ]
     },
     "execution_count": 19,
     "metadata": {},
     "output_type": "execute_result"
    }
   ],
   "source": [
    "df[\"SECONDARY_TAGS\"].apply(literal_eval).explode().unique()"
   ]
  },
  {
   "cell_type": "code",
   "execution_count": 20,
   "metadata": {},
   "outputs": [
    {
     "data": {
      "text/plain": [
       "[{'LATITUDE': '28.406061', 'LONGITUDE': '76.91730890552'},\n",
       " {'LATITUDE': '28.394232', 'LONGITUDE': '76.959186'},\n",
       " {'LATITUDE': '28.3732763', 'LONGITUDE': '76.9729472'},\n",
       " {'LATITUDE': '28.446282', 'LONGITUDE': '76.954775'},\n",
       " {'LATITUDE': '28.40845', 'LONGITUDE': '76.931977'},\n",
       " {'LATITUDE': '28.425856', 'LONGITUDE': '77.0603'},\n",
       " {'LATITUDE': '28.443962', 'LONGITUDE': '76.954155'}]"
      ]
     },
     "execution_count": 20,
     "metadata": {},
     "output_type": "execute_result"
    }
   ],
   "source": [
    "df[\"MAP_DETAILS\"].sample(7).apply(literal_eval).tolist()"
   ]
  },
  {
   "cell_type": "code",
   "execution_count": 21,
   "metadata": {},
   "outputs": [
    {
     "data": {
      "text/plain": [
       "2998     4.0\n",
       "1646    27.0\n",
       "437     20.0\n",
       "469      4.0\n",
       "1414    10.0\n",
       "1424     NaN\n",
       "311      NaN\n",
       "Name: AMENITIES, dtype: float64"
      ]
     },
     "execution_count": 21,
     "metadata": {},
     "output_type": "execute_result"
    }
   ],
   "source": [
    "df[\"AMENITIES\"].sample(7).str.split(\",\").str.len()"
   ]
  },
  {
   "cell_type": "code",
   "execution_count": 22,
   "metadata": {},
   "outputs": [
    {
     "data": {
      "text/plain": [
       "AGE\n",
       "1    1150\n",
       "6     703\n",
       "5     642\n",
       "0     639\n",
       "2     192\n",
       "3      59\n",
       "Name: count, dtype: int64"
      ]
     },
     "execution_count": 22,
     "metadata": {},
     "output_type": "execute_result"
    }
   ],
   "source": [
    "df[\"AGE\"].value_counts()"
   ]
  },
  {
   "cell_type": "markdown",
   "metadata": {},
   "source": [
    "### FACING\n",
    "\n",
    "| id  | label      |\n",
    "| --- | ---------- |\n",
    "| 1   | North      |\n",
    "| 2   | South      |\n",
    "| 3   | East       |\n",
    "| 4   | West       |\n",
    "| 5   | North-East |\n",
    "| 6   | North-West |\n",
    "| 7   | South-East |\n",
    "| 8   | South-West |\n",
    "\n",
    "**Maybe `0` means `NaN`.**"
   ]
  },
  {
   "cell_type": "code",
   "execution_count": 23,
   "metadata": {},
   "outputs": [
    {
     "data": {
      "text/plain": [
       "FACING\n",
       "0    1076\n",
       "3     629\n",
       "5     604\n",
       "1     328\n",
       "4     172\n",
       "2     163\n",
       "7     152\n",
       "6     132\n",
       "8     129\n",
       "Name: count, dtype: int64"
      ]
     },
     "execution_count": 23,
     "metadata": {},
     "output_type": "execute_result"
    }
   ],
   "source": [
    "df[\"FACING\"].value_counts()"
   ]
  },
  {
   "cell_type": "code",
   "execution_count": 24,
   "metadata": {},
   "outputs": [
    {
     "data": {
      "text/plain": [
       "[{'CITY': '8',\n",
       "  'CITY_NAME': 'Gurgaon',\n",
       "  'BUILDING_ID': '0',\n",
       "  'BUILDING_NAME': '',\n",
       "  'SOCIETY_NAME': '',\n",
       "  'LOCALITY_ID': '7870',\n",
       "  'LOCALITY_NAME': 'Sector 81 Gurgaon',\n",
       "  'ADDRESS': 'Sector 81'},\n",
       " {'CITY': '8',\n",
       "  'CITY_NAME': 'Gurgaon',\n",
       "  'BUILDING_ID': '11892',\n",
       "  'BUILDING_NAME': 'Bestech Park View Ananda',\n",
       "  'SOCIETY_NAME': 'Bestech Park View Ananda',\n",
       "  'LOCALITY_ID': '7870',\n",
       "  'LOCALITY_NAME': 'Sector 81 Gurgaon',\n",
       "  'ADDRESS': None},\n",
       " {'CITY': '8',\n",
       "  'CITY_NAME': 'Gurgaon',\n",
       "  'BUILDING_ID': '1000501',\n",
       "  'BUILDING_NAME': 'Emaar Digihomes',\n",
       "  'SOCIETY_NAME': 'Emaar Digihomes',\n",
       "  'LOCALITY_ID': '7506',\n",
       "  'LOCALITY_NAME': 'Sector 62 Gurgaon',\n",
       "  'ADDRESS': None}]"
      ]
     },
     "execution_count": 24,
     "metadata": {},
     "output_type": "execute_result"
    }
   ],
   "source": [
    "df[\"location\"].sample(3).apply(literal_eval).tolist()"
   ]
  },
  {
   "cell_type": "code",
   "execution_count": 25,
   "metadata": {},
   "outputs": [],
   "source": [
    "df[\"SOCIETY_NAME\"] = df[\"location\"].apply(literal_eval).str.get(\"SOCIETY_NAME\")\n",
    "df[\"LOCALITY_NAME\"] = df[\"location\"].apply(literal_eval).str.get(\"LOCALITY_NAME\")\n",
    "df[\"CITY_NAME\"] = df[\"location\"].apply(literal_eval).str.get(\"CITY_NAME\")"
   ]
  },
  {
   "cell_type": "code",
   "execution_count": 26,
   "metadata": {},
   "outputs": [
    {
     "data": {
      "text/plain": [
       "1585                      3 BHK Flat in Sector 79 Gurgaon\n",
       "129         Residential land / Plot in Sector 108 Gurgaon\n",
       "135                       4 BHK Flat in Sector 86 Gurgaon\n",
       "257     3 BHK Independent Builder Floor in Sector 27 G...\n",
       "954                       3 BHK Flat in Sector 89 Gurgaon\n",
       "1036                      3 BHK Flat in Sector 92 Gurgaon\n",
       "306          Residential land / Plot in Sector 91 Gurgaon\n",
       "Name: PROP_HEADING, dtype: object"
      ]
     },
     "execution_count": 26,
     "metadata": {},
     "output_type": "execute_result"
    }
   ],
   "source": [
    "df[\"PROP_HEADING\"].sample(7)"
   ]
  },
  {
   "cell_type": "code",
   "execution_count": 27,
   "metadata": {},
   "outputs": [
    {
     "data": {
      "text/plain": [
       "2812    This 4 bhk flat is available for sale in dlf n...\n",
       "2840    Available for sale facing apartment key in han...\n",
       "2907    This is best property in this area as location...\n",
       "1761    M3M Crown is an under construction project, of...\n",
       "1636    Looking for a 3 bhk property for sale in gurga...\n",
       "3269    Vatika 1000 sq yds plot registry case availabl...\n",
       "783     Ready to move in property with wardrobes, fans...\n",
       "Name: DESCRIPTION, dtype: object"
      ]
     },
     "execution_count": 27,
     "metadata": {},
     "output_type": "execute_result"
    }
   ],
   "source": [
    "df[\"DESCRIPTION\"].sample(7)"
   ]
  },
  {
   "cell_type": "code",
   "execution_count": 28,
   "metadata": {},
   "outputs": [
    {
     "data": {
      "text/plain": [
       "PROPERTY_TYPE\n",
       "Residential Apartment        1996\n",
       "Independent/Builder Floor     698\n",
       "Residential Land              638\n",
       "Independent House/Villa        41\n",
       "Serviced Apartments             8\n",
       "Farm House                      2\n",
       "Studio Apartment                2\n",
       "Name: count, dtype: int64"
      ]
     },
     "execution_count": 28,
     "metadata": {},
     "output_type": "execute_result"
    }
   ],
   "source": [
    "df[\"PROPERTY_TYPE\"].value_counts()"
   ]
  },
  {
   "cell_type": "code",
   "execution_count": 29,
   "metadata": {},
   "outputs": [
    {
     "data": {
      "text/plain": [
       "1139                      NaN\n",
       "920                       NaN\n",
       "2983           JMS The Nation\n",
       "1594    Pyramid Urban Homes 2\n",
       "2132                      NaN\n",
       "3218               Sare Homes\n",
       "2516           Bestech Altura\n",
       "Name: PROP_NAME, dtype: object"
      ]
     },
     "execution_count": 29,
     "metadata": {},
     "output_type": "execute_result"
    }
   ],
   "source": [
    "df[\"PROP_NAME\"].sample(7)"
   ]
  },
  {
   "cell_type": "code",
   "execution_count": 30,
   "metadata": {},
   "outputs": [
    {
     "data": {
      "text/plain": [
       "BALCONY_NUM\n",
       "3.0    729\n",
       "2.0    725\n",
       "4.0    678\n",
       "1.0    181\n",
       "0.0     92\n",
       "Name: count, dtype: int64"
      ]
     },
     "execution_count": 30,
     "metadata": {},
     "output_type": "execute_result"
    }
   ],
   "source": [
    "df[\"BALCONY_NUM\"].value_counts()"
   ]
  },
  {
   "cell_type": "code",
   "execution_count": 31,
   "metadata": {},
   "outputs": [
    {
     "data": {
      "text/plain": [
       "FLOOR_NUM\n",
       "1     592\n",
       "2     303\n",
       "3     223\n",
       "4     215\n",
       "6     134\n",
       "8     132\n",
       "5     121\n",
       "10    112\n",
       "7     112\n",
       "9     108\n",
       "Name: count, dtype: int64"
      ]
     },
     "execution_count": 31,
     "metadata": {},
     "output_type": "execute_result"
    }
   ],
   "source": [
    "df[\"FLOOR_NUM\"].value_counts()[:10]"
   ]
  },
  {
   "cell_type": "code",
   "execution_count": 32,
   "metadata": {},
   "outputs": [
    {
     "data": {
      "text/plain": [
       "BEDROOM_NUM\n",
       "3.0     1370\n",
       "4.0      679\n",
       "2.0      621\n",
       "1.0       39\n",
       "5.0       36\n",
       "9.0        1\n",
       "12.0       1\n",
       "Name: count, dtype: int64"
      ]
     },
     "execution_count": 32,
     "metadata": {},
     "output_type": "execute_result"
    }
   ],
   "source": [
    "df[\"BEDROOM_NUM\"].value_counts()"
   ]
  },
  {
   "cell_type": "code",
   "execution_count": 33,
   "metadata": {},
   "outputs": [
    {
     "data": {
      "text/plain": [
       "TOTAL_FLOOR\n",
       "4.0     1178\n",
       "14.0     207\n",
       "20.0     196\n",
       "3.0      166\n",
       "19.0     160\n",
       "15.0     108\n",
       "29.0     106\n",
       "26.0     103\n",
       "13.0     102\n",
       "12.0      96\n",
       "Name: count, dtype: int64"
      ]
     },
     "execution_count": 33,
     "metadata": {},
     "output_type": "execute_result"
    }
   ],
   "source": [
    "df[\"TOTAL_FLOOR\"].value_counts().iloc[:10]"
   ]
  }
 ],
 "metadata": {
  "kernelspec": {
   "display_name": "Python 3",
   "language": "python",
   "name": "python3"
  },
  "language_info": {
   "codemirror_mode": {
    "name": "ipython",
    "version": 3
   },
   "file_extension": ".py",
   "mimetype": "text/x-python",
   "name": "python",
   "nbconvert_exporter": "python",
   "pygments_lexer": "ipython3",
   "version": "3.11.0"
  },
  "orig_nbformat": 4
 },
 "nbformat": 4,
 "nbformat_minor": 2
}
